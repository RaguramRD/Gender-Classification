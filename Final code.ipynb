{
 "cells": [
  {
   "cell_type": "markdown",
   "metadata": {},
   "source": [
    "## *`FIT5149 Assessment 2`*\n",
    "## Authorship Profiling - Gender Classification\n",
    "***\n",
    "**Group no. 29**\n",
    "## Student Names: \n",
    "- Nivetha Rajakumar (30321670) <br>\n",
    "- Keerthana Muralitharan (30159474)<br>\n",
    "- Monisha Mohan Kumar(30256224)<br>\n",
    "***\n",
    "\n",
    "**Date:** 14/06/2020\n",
    "\n",
    "**Version:** 1.0\n",
    "\n",
    "**Environment:** `Python 3.7.1` and `Anaconda 4.7.11` (64-bit)\n",
    "***\n",
    "## 1. Introduction"
   ]
  },
  {
   "cell_type": "markdown",
   "metadata": {},
   "source": [
    "Authorship profiling is the evaluation of a given collection of texts in an effort to discover the author's specific characteristics based on content features. This helps in identifying profiling aspects such as gender, age, native language, or personality type.\n",
    "\n",
    "The task of profiling authorship is often formulated as a classification problem, where a classifier is fed with a text and the corresponding gender or native language label returns. There are several methods of machine learning which can be used in the role of classification. They can be classified into supervised (such as SVM) method and unsupervised (such as clustering) method.\n",
    "\n",
    "The aim of this assessment is to develop a classifier that can assign its corresponding labels to a set of twitter texts. In this assessment, we are focusing on the task of gender classification, where you are required to develop a classifier that can as accurately as possible identify the gender of the tweet author."
   ]
  },
  {
   "cell_type": "markdown",
   "metadata": {},
   "source": [
    "***\n",
    "## 2. Initialising and setting up the environment\n",
    "### 2.1 Importing required libraries\n",
    "Importing the packages and necessary libraries to build a classifier to predict the classifiers"
   ]
  },
  {
   "cell_type": "code",
   "execution_count": 1,
   "metadata": {},
   "outputs": [],
   "source": [
    "# Packages for data processing\n",
    "import re\n",
    "import pandas as pd\n",
    "import string\n",
    "import spacy\n",
    "import numpy as np\n",
    "import matplotlib.pyplot as plt\n",
    "%matplotlib inline\n",
    "import seaborn as sns\n",
    "#!pip install wordcloud\n",
    "from wordcloud import WordCloud\n",
    "\n",
    "#Package for feature extraction\n",
    "import nltk.data\n",
    "import nltk\n",
    "from nltk.corpus import stopwords\n",
    "from nltk.tokenize import RegexpTokenizer\n",
    "from nltk import word_tokenize   \n",
    "from nltk.stem import WordNetLemmatizer\n",
    "from nltk.stem.porter import PorterStemmer\n",
    "from sklearn.feature_extraction.text import TfidfVectorizer\n",
    "\n",
    "\n",
    "\n",
    "#Packages for building a classifier\n",
    "from sklearn import svm\n",
    "from sklearn.linear_model import LogisticRegression\n",
    "from sklearn.naive_bayes import BernoulliNB\n",
    "from sklearn.svm import LinearSVC, SVC\n",
    "from sklearn.ensemble import RandomForestClassifier\n",
    "from sklearn.model_selection import train_test_split\n",
    "from statistics import mode\n",
    "from sklearn.metrics import accuracy_score\n",
    "\n",
    "\n"
   ]
  },
  {
   "cell_type": "markdown",
   "metadata": {},
   "source": [
    "### 2.2 Initialisation for the Data Pre-processing\n",
    "\n",
    "For the data preprocessing the stopwords and the word-tokenizer are being initialized. The stemmer and lemmatizer is also defined. "
   ]
  },
  {
   "cell_type": "code",
   "execution_count": 2,
   "metadata": {},
   "outputs": [
    {
     "name": "stderr",
     "output_type": "stream",
     "text": [
      "[nltk_data] Downloading package stopwords to\n",
      "[nltk_data]     C:\\Users\\Keerthana\\AppData\\Roaming\\nltk_data...\n",
      "[nltk_data]   Package stopwords is already up-to-date!\n"
     ]
    }
   ],
   "source": [
    "# Stops words for pre-processing\n",
    "nltk.download('stopwords')\n",
    "stop_word = stopwords.words('english')\n",
    "\n",
    "#Initialising the word-tokenizer\n",
    "word_tokenizer = RegexpTokenizer(r\"[A-Za-z]\\w+(?:[-'?]\\w+)?\")\n",
    "\n",
    "# Defining the Stemmer and Lemmatizer   \n",
    "stemmer = PorterStemmer()\n",
    "lemmatizer = WordNetLemmatizer()"
   ]
  },
  {
   "cell_type": "markdown",
   "metadata": {},
   "source": [
    "***\n",
    "## 3. Loading and Examining data\n",
    "\n",
    "The train and test data is read from the csv files and stored in a pandas dataframe."
   ]
  },
  {
   "cell_type": "code",
   "execution_count": 3,
   "metadata": {},
   "outputs": [],
   "source": [
    "train_df=pd.read_csv(\"train_labels.csv\") # reading labeled data\n",
    "test_df=pd.read_csv(\"test.csv\") # reading test data"
   ]
  },
  {
   "cell_type": "code",
   "execution_count": 4,
   "metadata": {},
   "outputs": [
    {
     "data": {
      "text/html": [
       "<div>\n",
       "<style scoped>\n",
       "    .dataframe tbody tr th:only-of-type {\n",
       "        vertical-align: middle;\n",
       "    }\n",
       "\n",
       "    .dataframe tbody tr th {\n",
       "        vertical-align: top;\n",
       "    }\n",
       "\n",
       "    .dataframe thead th {\n",
       "        text-align: right;\n",
       "    }\n",
       "</style>\n",
       "<table border=\"1\" class=\"dataframe\">\n",
       "  <thead>\n",
       "    <tr style=\"text-align: right;\">\n",
       "      <th></th>\n",
       "      <th>id</th>\n",
       "      <th>gender</th>\n",
       "    </tr>\n",
       "  </thead>\n",
       "  <tbody>\n",
       "    <tr>\n",
       "      <th>0</th>\n",
       "      <td>d7d392835f50664fc079f0f388e147a0</td>\n",
       "      <td>male</td>\n",
       "    </tr>\n",
       "    <tr>\n",
       "      <th>1</th>\n",
       "      <td>ee40b86368137b86f51806c9f105b34b</td>\n",
       "      <td>female</td>\n",
       "    </tr>\n",
       "    <tr>\n",
       "      <th>2</th>\n",
       "      <td>919bc742d9a22d65eab1f52b11656cab</td>\n",
       "      <td>male</td>\n",
       "    </tr>\n",
       "    <tr>\n",
       "      <th>3</th>\n",
       "      <td>15b97a08d65f22d97ca685686510b6ae</td>\n",
       "      <td>female</td>\n",
       "    </tr>\n",
       "    <tr>\n",
       "      <th>4</th>\n",
       "      <td>affa98421ef5c46ca7c8f246e0a134c1</td>\n",
       "      <td>female</td>\n",
       "    </tr>\n",
       "  </tbody>\n",
       "</table>\n",
       "</div>"
      ],
      "text/plain": [
       "                                 id  gender\n",
       "0  d7d392835f50664fc079f0f388e147a0    male\n",
       "1  ee40b86368137b86f51806c9f105b34b  female\n",
       "2  919bc742d9a22d65eab1f52b11656cab    male\n",
       "3  15b97a08d65f22d97ca685686510b6ae  female\n",
       "4  affa98421ef5c46ca7c8f246e0a134c1  female"
      ]
     },
     "execution_count": 4,
     "metadata": {},
     "output_type": "execute_result"
    }
   ],
   "source": [
    "#Display the head of the train dataset\n",
    "train_df.head()"
   ]
  },
  {
   "cell_type": "code",
   "execution_count": 5,
   "metadata": {},
   "outputs": [
    {
     "data": {
      "text/html": [
       "<div>\n",
       "<style scoped>\n",
       "    .dataframe tbody tr th:only-of-type {\n",
       "        vertical-align: middle;\n",
       "    }\n",
       "\n",
       "    .dataframe tbody tr th {\n",
       "        vertical-align: top;\n",
       "    }\n",
       "\n",
       "    .dataframe thead th {\n",
       "        text-align: right;\n",
       "    }\n",
       "</style>\n",
       "<table border=\"1\" class=\"dataframe\">\n",
       "  <thead>\n",
       "    <tr style=\"text-align: right;\">\n",
       "      <th></th>\n",
       "      <th>id</th>\n",
       "      <th>gender</th>\n",
       "      <th>language</th>\n",
       "    </tr>\n",
       "  </thead>\n",
       "  <tbody>\n",
       "    <tr>\n",
       "      <th>0</th>\n",
       "      <td>d6b08022cdf758ead05e1c266649c393</td>\n",
       "      <td>NaN</td>\n",
       "      <td>NaN</td>\n",
       "    </tr>\n",
       "    <tr>\n",
       "      <th>1</th>\n",
       "      <td>9a989cb04766d5a89a65e8912d448328</td>\n",
       "      <td>NaN</td>\n",
       "      <td>NaN</td>\n",
       "    </tr>\n",
       "    <tr>\n",
       "      <th>2</th>\n",
       "      <td>2a1053a059d58fbafd3e782a8f7972c0</td>\n",
       "      <td>NaN</td>\n",
       "      <td>NaN</td>\n",
       "    </tr>\n",
       "    <tr>\n",
       "      <th>3</th>\n",
       "      <td>6032537900368aca3d1546bd71ecabd1</td>\n",
       "      <td>NaN</td>\n",
       "      <td>NaN</td>\n",
       "    </tr>\n",
       "    <tr>\n",
       "      <th>4</th>\n",
       "      <td>d191280655be8108ec9928398ff5b563</td>\n",
       "      <td>NaN</td>\n",
       "      <td>NaN</td>\n",
       "    </tr>\n",
       "  </tbody>\n",
       "</table>\n",
       "</div>"
      ],
      "text/plain": [
       "                                 id  gender  language\n",
       "0  d6b08022cdf758ead05e1c266649c393     NaN       NaN\n",
       "1  9a989cb04766d5a89a65e8912d448328     NaN       NaN\n",
       "2  2a1053a059d58fbafd3e782a8f7972c0     NaN       NaN\n",
       "3  6032537900368aca3d1546bd71ecabd1     NaN       NaN\n",
       "4  d191280655be8108ec9928398ff5b563     NaN       NaN"
      ]
     },
     "execution_count": 5,
     "metadata": {},
     "output_type": "execute_result"
    }
   ],
   "source": [
    "#Display the head of the test dataset\n",
    "test_df.head()"
   ]
  },
  {
   "cell_type": "code",
   "execution_count": 6,
   "metadata": {},
   "outputs": [
    {
     "data": {
      "text/plain": [
       "id        d7d392835f50664fc079f0f388e147a0\n",
       "gender                                male\n",
       "Name: 0, dtype: object"
      ]
     },
     "execution_count": 6,
     "metadata": {},
     "output_type": "execute_result"
    }
   ],
   "source": [
    "#display the first record of the train dataset\n",
    "train_df.iloc[0]"
   ]
  },
  {
   "cell_type": "markdown",
   "metadata": {},
   "source": [
    "###### The snippet of the data in the xml file and the first 1000 character of the first XML file is displayed."
   ]
  },
  {
   "cell_type": "code",
   "execution_count": 7,
   "metadata": {
    "scrolled": true
   },
   "outputs": [
    {
     "name": "stdout",
     "output_type": "stream",
     "text": [
      "<author lang=\"en\">\n",
      "\t<documents>\n",
      "\t\t<document><![CDATA[@CSIFERROSCAN youch! Good things to know! Is that sort of stuff repairable?]]></document>\n",
      "\t\t<document><![CDATA[Succumbed to FOMO and bought GNR tickets. Remember asking parents to buy GNR Lies album as a young boy because it had boobies inside. ≡ƒÿé]]></document>\n",
      "\t\t<document><![CDATA[Brown eye Broom a cool 73 then to the rescue to clear out some broken window in Wellington @TheACCnz https://t.co/eoYmdswYX5]]></document>\n",
      "\t\t<document><![CDATA[Shout out to Auckland tennis fans who get to sleep in this morning but worth it to watch the ≡ƒÉÉ win #18 #Federer #needcoffee]]></document>\n",
      "\t\t<document><![CDATA[@nickyoung210 Someone had some balls to come up with that ≡ƒÿé]]></document>\n",
      "\t\t<document><![CDATA[@okcthunder Hey guys, are there any more releases coming of the 2016 Christmas day jerseys?]]></document>\n",
      "\t\t<document><![CDATA[@JulieReddish Yeah but curiosity got the better of me!! ≡ƒæÇ]]></document>\n",
      "\t\t<document><![CDATA[@JulieReddish I rew\n"
     ]
    }
   ],
   "source": [
    "#XML file is read and displayed\n",
    "with open('data/d7d392835f50664fc079f0f388e147a0.xml','r',encoding='cp437') as in_file:\n",
    "    xml_first_data = in_file.read()\n",
    "    \n",
    "# xml_data is a string and the first 1000 chracters are printed, ready for inspection\n",
    "print(xml_first_data[0:1000])"
   ]
  },
  {
   "cell_type": "markdown",
   "metadata": {},
   "source": [
    "###### The size of the train and test datasets are being displayed below"
   ]
  },
  {
   "cell_type": "code",
   "execution_count": 8,
   "metadata": {},
   "outputs": [
    {
     "name": "stdout",
     "output_type": "stream",
     "text": [
      "Length of training dataset is: 3100\n",
      "Length of testing dataset is: 500\n",
      "Shape of the train dataset (3100, 2)\n",
      "Shape of the test dataset (500, 3)\n"
     ]
    }
   ],
   "source": [
    "#Display the size of the train and test dataset\n",
    "print(\"Length of training dataset is:\",len(train_df))\n",
    "print(\"Length of testing dataset is:\",len(test_df))\n",
    "\n",
    "#Dimensions of the train and test dataset\n",
    "print(\"Shape of the train dataset\",train_df.shape)\n",
    "print(\"Shape of the test dataset\",test_df.shape)"
   ]
  },
  {
   "cell_type": "markdown",
   "metadata": {},
   "source": [
    "#### 3.2 Exploring the data"
   ]
  },
  {
   "cell_type": "code",
   "execution_count": 9,
   "metadata": {},
   "outputs": [
    {
     "name": "stdout",
     "output_type": "stream",
     "text": [
      "No of tweets by Male (out of 3100) -  1552\n",
      "No of tweets by Female (out of 3100) -  1548\n"
     ]
    }
   ],
   "source": [
    "## Looking at the labels ratio - train set\n",
    "print('No of tweets by Male (out of 3100) - ',train_df.gender[train_df.gender=='male'].count())\n",
    "print('No of tweets by Female (out of 3100) - ',train_df.gender[train_df.gender=='female'].count())"
   ]
  },
  {
   "cell_type": "markdown",
   "metadata": {},
   "source": [
    "***\n",
    "## 4. Data Preparation & Feature Extraction\n",
    "Most common pre-processing steps include, <br>\n",
    "> - Tokenization \n",
    "> - Case normalization\n",
    "> - Stopword removal\n",
    "> - Removal of most frequent and less frequent words\n",
    "> - Stemming / Lemmatization\n",
    "> - Generation of n-grams"
   ]
  },
  {
   "cell_type": "markdown",
   "metadata": {},
   "source": [
    "### 4.1 Reading XML files and Extracting the XML content\n",
    "- Defining a function to read XML files and append the preprocessed sentences as done above"
   ]
  },
  {
   "cell_type": "code",
   "execution_count": 10,
   "metadata": {},
   "outputs": [],
   "source": [
    "#Creating the empty lists \n",
    "train_vec = []\n",
    "pre_processed_data=[]\n",
    "#function to read the XML files which must be preprocessed\n",
    "def read_xml(file_name):\n",
    "    with open(file_name,'r',encoding='cp437') as in_file: #read the xml data\n",
    "        xml_data = in_file.read()\n",
    "        \n",
    "        # Calling function to pre-process data\n",
    "        pre_processed_dt = preprocess(xml_data)\n",
    "        pre_processed_data.append(pre_processed_dt)\n",
    "        return(pre_processed_dt)"
   ]
  },
  {
   "cell_type": "markdown",
   "metadata": {},
   "source": [
    "### 4.2 Data Preprocessing\n",
    "\n",
    "A function is written to read all the xml file content and remove the unwanted characters from the text and normalise the text content.The words starting with @ are removed,Hyperlinks are removed and only alpha numeric content is retained."
   ]
  },
  {
   "cell_type": "code",
   "execution_count": 11,
   "metadata": {},
   "outputs": [],
   "source": [
    "#Function to preprocess the data and read the XML files\n",
    "def preprocess(xml_data):\n",
    "    pattern_text = pattern_text = r'<document><!\\[CDATA\\[(.*?)\\]\\]></document>' #extracting the sentences\n",
    "    # Text extraction\n",
    "    xml_text = re.findall(pattern_text, xml_data,  flags=re.DOTALL)\n",
    "    #for every text file unwanted characters are being removed\n",
    "    for i in range(0,len(xml_text)):\n",
    "       \n",
    "\n",
    "        # Removal of unwanted characters\n",
    "        xml_text[i] = re.sub('@[^\\s]* ', '',  xml_text[i]) #removing what is starting from @\n",
    "        xml_text[i] = re.sub(' https://.*', '', xml_text[i]) #removing all the https tags\n",
    "        xml_text[i] = re.sub('[^A-Za-z0-9\\s]*', '', xml_text[i]) #removing words and special characters which are not alphabets\n",
    "\n",
    "        # Case Normalisation\n",
    "        xml_text[i] = xml_text[i].lower()\n",
    "    \n",
    "    xml_text = ' '.join(xml_text)\n",
    "    return(xml_text)"
   ]
  },
  {
   "cell_type": "markdown",
   "metadata": {},
   "source": [
    "- Appending .xml to the training dataframe and reading the xml file and appending the preprocessed data"
   ]
  },
  {
   "cell_type": "code",
   "execution_count": 12,
   "metadata": {
    "scrolled": true
   },
   "outputs": [],
   "source": [
    "#Processing the train dataset \n",
    "train_df['id_link'] = ''\n",
    "train_df['preprocessed'] = ''\n",
    "\n",
    "for i in range(0,len(train_df)):\n",
    "    train_df['id_link'][i]='data\\\\' +train_df['id'][i]+'.xml'\n",
    "    # Calling function to read XML files\n",
    "    preprocessed = read_xml(train_df['id_link'][i])\n",
    "    train_df['preprocessed'][i]=preprocessed"
   ]
  },
  {
   "cell_type": "markdown",
   "metadata": {},
   "source": [
    "- Appending .xml to the testing dataframe and reading the xml file and appending the preprocessed data"
   ]
  },
  {
   "cell_type": "code",
   "execution_count": 13,
   "metadata": {
    "scrolled": true
   },
   "outputs": [
    {
     "name": "stderr",
     "output_type": "stream",
     "text": [
      "C:\\Users\\Keerthana\\anaconda3\\lib\\site-packages\\ipykernel_launcher.py:6: SettingWithCopyWarning: \n",
      "A value is trying to be set on a copy of a slice from a DataFrame\n",
      "\n",
      "See the caveats in the documentation: https://pandas.pydata.org/pandas-docs/stable/user_guide/indexing.html#returning-a-view-versus-a-copy\n",
      "  \n",
      "C:\\Users\\Keerthana\\anaconda3\\lib\\site-packages\\ipykernel_launcher.py:9: SettingWithCopyWarning: \n",
      "A value is trying to be set on a copy of a slice from a DataFrame\n",
      "\n",
      "See the caveats in the documentation: https://pandas.pydata.org/pandas-docs/stable/user_guide/indexing.html#returning-a-view-versus-a-copy\n",
      "  if __name__ == '__main__':\n"
     ]
    }
   ],
   "source": [
    "#Processing the test dataset\n",
    "test_df['id_link'] = ''\n",
    "test_df['preprocessed'] = ''\n",
    "\n",
    "for i in range(0,len(test_df)):\n",
    "    test_df['id_link'][i]='data\\\\' +test_df['id'][i]+'.xml'\n",
    "    # Calling function to read XML files\n",
    "    preprocessed = read_xml(test_df['id_link'][i])\n",
    "    test_df['preprocessed'][i]=preprocessed"
   ]
  },
  {
   "cell_type": "markdown",
   "metadata": {},
   "source": [
    "- Adding the XML link and preprocessed text of the XML files to the train and test dataframes"
   ]
  },
  {
   "cell_type": "code",
   "execution_count": 14,
   "metadata": {
    "scrolled": true
   },
   "outputs": [
    {
     "data": {
      "text/html": [
       "<div>\n",
       "<style scoped>\n",
       "    .dataframe tbody tr th:only-of-type {\n",
       "        vertical-align: middle;\n",
       "    }\n",
       "\n",
       "    .dataframe tbody tr th {\n",
       "        vertical-align: top;\n",
       "    }\n",
       "\n",
       "    .dataframe thead th {\n",
       "        text-align: right;\n",
       "    }\n",
       "</style>\n",
       "<table border=\"1\" class=\"dataframe\">\n",
       "  <thead>\n",
       "    <tr style=\"text-align: right;\">\n",
       "      <th></th>\n",
       "      <th>id</th>\n",
       "      <th>gender</th>\n",
       "      <th>id_link</th>\n",
       "      <th>preprocessed</th>\n",
       "    </tr>\n",
       "  </thead>\n",
       "  <tbody>\n",
       "    <tr>\n",
       "      <th>0</th>\n",
       "      <td>d7d392835f50664fc079f0f388e147a0</td>\n",
       "      <td>male</td>\n",
       "      <td>data\\d7d392835f50664fc079f0f388e147a0.xml</td>\n",
       "      <td>youch good things to know is that sort of stuf...</td>\n",
       "    </tr>\n",
       "    <tr>\n",
       "      <th>1</th>\n",
       "      <td>ee40b86368137b86f51806c9f105b34b</td>\n",
       "      <td>female</td>\n",
       "      <td>data\\ee40b86368137b86f51806c9f105b34b.xml</td>\n",
       "      <td>donald the menace thankscomey  a return to nat...</td>\n",
       "    </tr>\n",
       "    <tr>\n",
       "      <th>2</th>\n",
       "      <td>919bc742d9a22d65eab1f52b11656cab</td>\n",
       "      <td>male</td>\n",
       "      <td>data\\919bc742d9a22d65eab1f52b11656cab.xml</td>\n",
       "      <td>this seems super sketch  too good to be true\\n...</td>\n",
       "    </tr>\n",
       "    <tr>\n",
       "      <th>3</th>\n",
       "      <td>15b97a08d65f22d97ca685686510b6ae</td>\n",
       "      <td>female</td>\n",
       "      <td>data\\15b97a08d65f22d97ca685686510b6ae.xml</td>\n",
       "      <td>just some texts with my dad about our saturday...</td>\n",
       "    </tr>\n",
       "    <tr>\n",
       "      <th>4</th>\n",
       "      <td>affa98421ef5c46ca7c8f246e0a134c1</td>\n",
       "      <td>female</td>\n",
       "      <td>data\\affa98421ef5c46ca7c8f246e0a134c1.xml</td>\n",
       "      <td>irrevocably love this talented human and so pr...</td>\n",
       "    </tr>\n",
       "  </tbody>\n",
       "</table>\n",
       "</div>"
      ],
      "text/plain": [
       "                                 id  gender  \\\n",
       "0  d7d392835f50664fc079f0f388e147a0    male   \n",
       "1  ee40b86368137b86f51806c9f105b34b  female   \n",
       "2  919bc742d9a22d65eab1f52b11656cab    male   \n",
       "3  15b97a08d65f22d97ca685686510b6ae  female   \n",
       "4  affa98421ef5c46ca7c8f246e0a134c1  female   \n",
       "\n",
       "                                     id_link  \\\n",
       "0  data\\d7d392835f50664fc079f0f388e147a0.xml   \n",
       "1  data\\ee40b86368137b86f51806c9f105b34b.xml   \n",
       "2  data\\919bc742d9a22d65eab1f52b11656cab.xml   \n",
       "3  data\\15b97a08d65f22d97ca685686510b6ae.xml   \n",
       "4  data\\affa98421ef5c46ca7c8f246e0a134c1.xml   \n",
       "\n",
       "                                        preprocessed  \n",
       "0  youch good things to know is that sort of stuf...  \n",
       "1  donald the menace thankscomey  a return to nat...  \n",
       "2  this seems super sketch  too good to be true\\n...  \n",
       "3  just some texts with my dad about our saturday...  \n",
       "4  irrevocably love this talented human and so pr...  "
      ]
     },
     "execution_count": 14,
     "metadata": {},
     "output_type": "execute_result"
    }
   ],
   "source": [
    "#Display the new train dataframe\n",
    "train_df.head()"
   ]
  },
  {
   "cell_type": "code",
   "execution_count": 15,
   "metadata": {
    "scrolled": true
   },
   "outputs": [
    {
     "data": {
      "text/html": [
       "<div>\n",
       "<style scoped>\n",
       "    .dataframe tbody tr th:only-of-type {\n",
       "        vertical-align: middle;\n",
       "    }\n",
       "\n",
       "    .dataframe tbody tr th {\n",
       "        vertical-align: top;\n",
       "    }\n",
       "\n",
       "    .dataframe thead th {\n",
       "        text-align: right;\n",
       "    }\n",
       "</style>\n",
       "<table border=\"1\" class=\"dataframe\">\n",
       "  <thead>\n",
       "    <tr style=\"text-align: right;\">\n",
       "      <th></th>\n",
       "      <th>id</th>\n",
       "      <th>gender</th>\n",
       "      <th>language</th>\n",
       "      <th>id_link</th>\n",
       "      <th>preprocessed</th>\n",
       "    </tr>\n",
       "  </thead>\n",
       "  <tbody>\n",
       "    <tr>\n",
       "      <th>0</th>\n",
       "      <td>d6b08022cdf758ead05e1c266649c393</td>\n",
       "      <td>NaN</td>\n",
       "      <td>NaN</td>\n",
       "      <td>data\\d6b08022cdf758ead05e1c266649c393.xml</td>\n",
       "      <td>what odds he stops whining and goes out and ge...</td>\n",
       "    </tr>\n",
       "    <tr>\n",
       "      <th>1</th>\n",
       "      <td>9a989cb04766d5a89a65e8912d448328</td>\n",
       "      <td>NaN</td>\n",
       "      <td>NaN</td>\n",
       "      <td>data\\9a989cb04766d5a89a65e8912d448328.xml</td>\n",
       "      <td>bingay i won a cool handy tonight cashmoney ho...</td>\n",
       "    </tr>\n",
       "    <tr>\n",
       "      <th>2</th>\n",
       "      <td>2a1053a059d58fbafd3e782a8f7972c0</td>\n",
       "      <td>NaN</td>\n",
       "      <td>NaN</td>\n",
       "      <td>data\\2a1053a059d58fbafd3e782a8f7972c0.xml</td>\n",
       "      <td>the cynical manipulation of voters desire for ...</td>\n",
       "    </tr>\n",
       "    <tr>\n",
       "      <th>3</th>\n",
       "      <td>6032537900368aca3d1546bd71ecabd1</td>\n",
       "      <td>NaN</td>\n",
       "      <td>NaN</td>\n",
       "      <td>data\\6032537900368aca3d1546bd71ecabd1.xml</td>\n",
       "      <td>cannot convert b to object on sony braavia  be...</td>\n",
       "    </tr>\n",
       "    <tr>\n",
       "      <th>4</th>\n",
       "      <td>d191280655be8108ec9928398ff5b563</td>\n",
       "      <td>NaN</td>\n",
       "      <td>NaN</td>\n",
       "      <td>data\\d191280655be8108ec9928398ff5b563.xml</td>\n",
       "      <td>cat is a kneading maniac floppycats the left g...</td>\n",
       "    </tr>\n",
       "  </tbody>\n",
       "</table>\n",
       "</div>"
      ],
      "text/plain": [
       "                                 id  gender  language  \\\n",
       "0  d6b08022cdf758ead05e1c266649c393     NaN       NaN   \n",
       "1  9a989cb04766d5a89a65e8912d448328     NaN       NaN   \n",
       "2  2a1053a059d58fbafd3e782a8f7972c0     NaN       NaN   \n",
       "3  6032537900368aca3d1546bd71ecabd1     NaN       NaN   \n",
       "4  d191280655be8108ec9928398ff5b563     NaN       NaN   \n",
       "\n",
       "                                     id_link  \\\n",
       "0  data\\d6b08022cdf758ead05e1c266649c393.xml   \n",
       "1  data\\9a989cb04766d5a89a65e8912d448328.xml   \n",
       "2  data\\2a1053a059d58fbafd3e782a8f7972c0.xml   \n",
       "3  data\\6032537900368aca3d1546bd71ecabd1.xml   \n",
       "4  data\\d191280655be8108ec9928398ff5b563.xml   \n",
       "\n",
       "                                        preprocessed  \n",
       "0  what odds he stops whining and goes out and ge...  \n",
       "1  bingay i won a cool handy tonight cashmoney ho...  \n",
       "2  the cynical manipulation of voters desire for ...  \n",
       "3  cannot convert b to object on sony braavia  be...  \n",
       "4  cat is a kneading maniac floppycats the left g...  "
      ]
     },
     "execution_count": 15,
     "metadata": {},
     "output_type": "execute_result"
    }
   ],
   "source": [
    "#Display the new test dataframe\n",
    "test_df.head()"
   ]
  },
  {
   "cell_type": "markdown",
   "metadata": {},
   "source": [
    "### 4.3 Preparing Data for feature extraction\n",
    "\n",
    "The preprocessed data and labels from the train dataset is being converted to the list and the preprocessed data from the test data XML files are converted to the list to get the features extracted.The preprocessed content of the first file is displayed."
   ]
  },
  {
   "cell_type": "code",
   "execution_count": 16,
   "metadata": {},
   "outputs": [],
   "source": [
    "# Converting to preprocessed content and labels for each file to list\n",
    "train_text = train_df.preprocessed.tolist() \n",
    "train_label = train_df.gender.tolist() \n",
    "\n",
    "#Converting the preprocessed content for each file to list\n",
    "test_text = test_df.preprocessed.tolist() "
   ]
  },
  {
   "cell_type": "markdown",
   "metadata": {},
   "source": [
    "### 4.4 Feature Extraction using TF-IDF vectorizer\n",
    "To Extract the features we remove the blank lines, stopwords and punctuations from the preprocessed text content"
   ]
  },
  {
   "cell_type": "code",
   "execution_count": 17,
   "metadata": {},
   "outputs": [],
   "source": [
    "# Creating a list for removal of stopwords and punctuations\n",
    "stopwords_fin = stop_word+list(string.punctuation)"
   ]
  },
  {
   "cell_type": "markdown",
   "metadata": {},
   "source": [
    "- Words are tokenized and stored as list of lists where every sublist is a document while the outer list represents the whole corpus\n",
    "- The LemmaTokenizer is used for this operation<br><br>\n",
    "\n",
    "- Stemming is performed to make sure similar words are generalised into a single stemmed word and only the words are kept and numbers are removed using RegexTokeniser\n",
    "- This way, the contextual meaning of the word retains even though the word originally exists in different verbal context\n",
    "- The vocab will then have a single occurance of that word making sure the Sparse vector doesn't have different ways of occurance for the same word"
   ]
  },
  {
   "cell_type": "code",
   "execution_count": 18,
   "metadata": {},
   "outputs": [],
   "source": [
    "# Defining the tokenizer\n",
    "class LemmaTokenizer(object):\n",
    "    def __init__(self):\n",
    "        self.wnl=WordNetLemmatizer()\n",
    "    def __call__(self,doc):\n",
    "        #using regex tokenizer,extracting the words with whitespaces alone\n",
    "        output = ''.join(re.findall('[a-zA-Z\\s]+',doc))\n",
    "        return [self.wnl.lemmatize(t) for t in word_tokenize(output)]"
   ]
  },
  {
   "cell_type": "markdown",
   "metadata": {},
   "source": [
    "- TF-IDF (Term Frequency-Inverse Document Frequency): It is a measure of how important a word/n-gram is to a document in a collection. \n",
    "- The minimum document frequency is 5% of the documents\n",
    "- The maximum document frequency is 95% of the documents\n",
    "- In general,Tokens with less than 5% and more than 95% of document frequency is removed , which in this model buildiing also resulted in good accuracy \n",
    "- The ngram considered are unigram,bigram and trigram to get better results, when we have more features to analyse , we tend to get best results."
   ]
  },
  {
   "cell_type": "code",
   "execution_count": 19,
   "metadata": {},
   "outputs": [],
   "source": [
    "# TF-IDF vectorization\n",
    "vectorizer=TfidfVectorizer(analyzer='word',input='content',\n",
    "                           lowercase=True,\n",
    "                           token_pattern='(?u)\\\\b\\\\w\\\\w+\\\\b',\n",
    "                           min_df=0.05,\n",
    "                           max_df=0.95,\n",
    "                           ngram_range=(1,3),\n",
    "                           tokenizer=LemmaTokenizer(),\n",
    "                           stop_words=stopwords_fin)"
   ]
  },
  {
   "cell_type": "markdown",
   "metadata": {},
   "source": [
    "### 4.5 Fitting the TF-IDF vectorizer to transform the data\n",
    "\n",
    "The vectorizer is used to transform the train and test data. The output label field is converted into an array of list.There are 1862 feature names generated. "
   ]
  },
  {
   "cell_type": "code",
   "execution_count": 20,
   "metadata": {},
   "outputs": [
    {
     "name": "stderr",
     "output_type": "stream",
     "text": [
      "C:\\Users\\Keerthana\\anaconda3\\lib\\site-packages\\sklearn\\feature_extraction\\text.py:385: UserWarning: Your stop_words may be inconsistent with your preprocessing. Tokenizing the stop words generated tokens ['arent', 'couldnt', 'didnt', 'doe', 'doesnt', 'dont', 'ha', 'hadnt', 'hasnt', 'havent', 'isnt', 'mightnt', 'mustnt', 'neednt', 'shant', 'shes', 'shouldnt', 'shouldve', 'thatll', 'wa', 'wasnt', 'werent', 'wont', 'wouldnt', 'youd', 'youll', 'youre', 'youve'] not in stop_words.\n",
      "  'stop_words.' % sorted(inconsistent))\n"
     ]
    }
   ],
   "source": [
    "# Fitting the data and converting to arrays\n",
    "x_train=vectorizer.fit_transform(train_text)\n",
    "y_train=np.asarray(train_label)\n",
    "\n",
    "\n",
    "# Use the same vectorizer to transform the test set\n",
    "x_test=vectorizer.transform(test_text)"
   ]
  },
  {
   "cell_type": "code",
   "execution_count": 21,
   "metadata": {},
   "outputs": [
    {
     "data": {
      "text/plain": [
       "<3100x1862 sparse matrix of type '<class 'numpy.float64'>'\n",
       "\twith 881102 stored elements in Compressed Sparse Row format>"
      ]
     },
     "execution_count": 21,
     "metadata": {},
     "output_type": "execute_result"
    }
   ],
   "source": [
    "x_train"
   ]
  },
  {
   "cell_type": "code",
   "execution_count": 22,
   "metadata": {},
   "outputs": [
    {
     "data": {
      "text/plain": [
       "1862"
      ]
     },
     "execution_count": 22,
     "metadata": {},
     "output_type": "execute_result"
    }
   ],
   "source": [
    "len(vectorizer.get_feature_names())"
   ]
  },
  {
   "cell_type": "markdown",
   "metadata": {},
   "source": [
    "### 4.6 Visualizing the Features\n",
    "\n",
    "A wordcloud is generated for the for the highest frequency values of the feature names generated by the vectorizer."
   ]
  },
  {
   "cell_type": "code",
   "execution_count": 23,
   "metadata": {},
   "outputs": [
    {
     "data": {
      "text/plain": [
       "able          22.108251\n",
       "absolute      16.680364\n",
       "absolutely    28.350321\n",
       "accept        11.350078\n",
       "access        14.887067\n",
       "                ...    \n",
       "youve         28.086061\n",
       "yr            23.721974\n",
       "yup           11.897810\n",
       "zealand       23.815221\n",
       "zero           9.346532\n",
       "Length: 1862, dtype: float64"
      ]
     },
     "execution_count": 23,
     "metadata": {},
     "output_type": "execute_result"
    }
   ],
   "source": [
    "#https://stackoverflow.com/questions/61916096/word-cloud-built-out-of-tf-idf-vectorizer-function\n",
    "feature_names = vectorizer.get_feature_names()\n",
    "dense = x_train.todense()\n",
    "lst1 = dense.tolist()\n",
    "#storing the details in a dataframe\n",
    "df = pd.DataFrame(lst1, columns=feature_names)\n",
    "df.T.sum(axis=1)\n"
   ]
  },
  {
   "cell_type": "code",
   "execution_count": 24,
   "metadata": {},
   "outputs": [],
   "source": [
    "#WordCloud is being plotted based on the words frequencies\n",
    "Cloud = WordCloud(background_color=\"white\", max_words=100).generate_from_frequencies(df.T.sum(axis=1))"
   ]
  },
  {
   "cell_type": "code",
   "execution_count": 34,
   "metadata": {},
   "outputs": [
    {
     "data": {
      "image/png": "[encoded data removed]",
      "text/plain": [
       "<Figure size 1296x576 with 1 Axes>"
      ]
     },
     "metadata": {
      "needs_background": "light"
     },
     "output_type": "display_data"
    }
   ],
   "source": [
    "#Plotting the Word Cloud\n",
    "plt.figure(figsize=(18,8))\n",
    "plt.imshow(Cloud)\n",
    "plt.title(\"Top 300 words in WordCloud\")\n",
    "plt.show()"
   ]
  },
  {
   "cell_type": "markdown",
   "metadata": {},
   "source": [
    "***\n",
    "## 5. Classifier Model Building\n",
    "\n",
    "Using the traditional machine learning algorithms like Logistic Regression,Linear SVC,Random Forest Classifier we have developed classifiers that gives the most accurate prediction for the given dataset based on its predictions.These 3 classifiers are built and they are ensembled by taking the mode of the prediction values is taken into a list. "
   ]
  },
  {
   "cell_type": "code",
   "execution_count": 26,
   "metadata": {},
   "outputs": [
    {
     "name": "stdout",
     "output_type": "stream",
     "text": [
      "LogisticRegression\n"
     ]
    }
   ],
   "source": [
    "#Building a classfier for logistic Regression\n",
    "lr = LogisticRegression()\n",
    "model_name = lr.__class__.__name__\n",
    "#fit the model to the data\n",
    "lr.fit(x_train, y_train)\n",
    "print(model_name)\n",
    "# Do the prediction\n",
    "lr_predict=lr.predict(x_test)"
   ]
  },
  {
   "cell_type": "code",
   "execution_count": 27,
   "metadata": {},
   "outputs": [
    {
     "name": "stdout",
     "output_type": "stream",
     "text": [
      "SVC\n"
     ]
    }
   ],
   "source": [
    "#Building a classifier for Linear SVC\n",
    "svc = SVC(C=0.8,gamma=1,degree=3,kernel='linear')\n",
    "model_name = svc.__class__.__name__\n",
    "#Fit the model to the data\n",
    "svc.fit(x_train, y_train)\n",
    "print(model_name)\n",
    "# Do the predictions\n",
    "svc_predict=svc.predict(x_test)\n"
   ]
  },
  {
   "cell_type": "code",
   "execution_count": 28,
   "metadata": {},
   "outputs": [
    {
     "name": "stdout",
     "output_type": "stream",
     "text": [
      "RandomForestClassifier\n"
     ]
    }
   ],
   "source": [
    "#Building the classifier for Random Forest\n",
    "rf = RandomForestClassifier(n_estimators=50, criterion='gini', max_depth=None,min_samples_split=2, min_samples_leaf=1, min_weight_fraction_leaf=0.0, max_features='auto', max_leaf_nodes=None,bootstrap=True, oob_score=False, n_jobs=1, random_state=100, verbose=0, warm_start=False,class_weight=None)\n",
    "model_name = rf.__class__.__name__\n",
    "#Fit the model for the data\n",
    "rf.fit(x_train, y_train)\n",
    "print(model_name)\n",
    "# Do the predictions\n",
    "rf_predict=rf.predict(x_test)\n"
   ]
  },
  {
   "cell_type": "code",
   "execution_count": 29,
   "metadata": {},
   "outputs": [],
   "source": [
    "#https://www.geeksforgeeks.org/python-statistics-mode-function/#:~:text=Python%20statistics%20%7C%20mode%20function,most%20likely%20to%20be%20sampled.&text=Syntax%20%3A%20mode(%5Bdata%2Dset,numbers%20as%20well%20as%20Strings.\n",
    "#Finding the mode (most number of occcuring ) of the predictions into a list\n",
    "best_predictions = [mode(prediction) for prediction in zip(lr_predict,svc_predict,rf_predict)]"
   ]
  },
  {
   "cell_type": "markdown",
   "metadata": {},
   "source": [
    "***\n",
    "### 6. Model Evaluation\n",
    "\n",
    "The test data predictions is read and the predictions from the the ensemble model and the accuracy score is generated."
   ]
  },
  {
   "cell_type": "code",
   "execution_count": 30,
   "metadata": {},
   "outputs": [],
   "source": [
    "#Read the test data\n",
    "test_df=pd.read_csv(\"test_labels.csv\")\n",
    "#Store the gender labels in the predictions list\n",
    "predictions=test_df.gender.to_list()"
   ]
  },
  {
   "cell_type": "code",
   "execution_count": 31,
   "metadata": {},
   "outputs": [
    {
     "name": "stdout",
     "output_type": "stream",
     "text": [
      "Accuracy_score of ensemble model: 0.816\n"
     ]
    }
   ],
   "source": [
    "print(\"Accuracy_score of ensemble model:\",accuracy_score(predictions,best_predictions))"
   ]
  },
  {
   "cell_type": "markdown",
   "metadata": {},
   "source": [
    "***\n",
    "## 7. Output Generation\n",
    "\n",
    "The gender labels which are predicted are stored in a dataframe and then exported to a csv file"
   ]
  },
  {
   "cell_type": "code",
   "execution_count": 32,
   "metadata": {
    "scrolled": true
   },
   "outputs": [
    {
     "data": {
      "text/html": [
       "<div>\n",
       "<style scoped>\n",
       "    .dataframe tbody tr th:only-of-type {\n",
       "        vertical-align: middle;\n",
       "    }\n",
       "\n",
       "    .dataframe tbody tr th {\n",
       "        vertical-align: top;\n",
       "    }\n",
       "\n",
       "    .dataframe thead th {\n",
       "        text-align: right;\n",
       "    }\n",
       "</style>\n",
       "<table border=\"1\" class=\"dataframe\">\n",
       "  <thead>\n",
       "    <tr style=\"text-align: right;\">\n",
       "      <th></th>\n",
       "      <th>id</th>\n",
       "      <th>gender</th>\n",
       "    </tr>\n",
       "  </thead>\n",
       "  <tbody>\n",
       "    <tr>\n",
       "      <th>0</th>\n",
       "      <td>d6b08022cdf758ead05e1c266649c393</td>\n",
       "      <td>1</td>\n",
       "    </tr>\n",
       "    <tr>\n",
       "      <th>1</th>\n",
       "      <td>9a989cb04766d5a89a65e8912d448328</td>\n",
       "      <td>0</td>\n",
       "    </tr>\n",
       "    <tr>\n",
       "      <th>2</th>\n",
       "      <td>2a1053a059d58fbafd3e782a8f7972c0</td>\n",
       "      <td>1</td>\n",
       "    </tr>\n",
       "    <tr>\n",
       "      <th>3</th>\n",
       "      <td>6032537900368aca3d1546bd71ecabd1</td>\n",
       "      <td>1</td>\n",
       "    </tr>\n",
       "    <tr>\n",
       "      <th>4</th>\n",
       "      <td>d191280655be8108ec9928398ff5b563</td>\n",
       "      <td>1</td>\n",
       "    </tr>\n",
       "  </tbody>\n",
       "</table>\n",
       "</div>"
      ],
      "text/plain": [
       "                                 id  gender\n",
       "0  d6b08022cdf758ead05e1c266649c393       1\n",
       "1  9a989cb04766d5a89a65e8912d448328       0\n",
       "2  2a1053a059d58fbafd3e782a8f7972c0       1\n",
       "3  6032537900368aca3d1546bd71ecabd1       1\n",
       "4  d191280655be8108ec9928398ff5b563       1"
      ]
     },
     "execution_count": 32,
     "metadata": {},
     "output_type": "execute_result"
    }
   ],
   "source": [
    "#Output dataframe with the gender labels and document ids\n",
    "output=pd.DataFrame(list(zip(test_df['id'].tolist(),best_predictions)),columns=['id','gender'])\n",
    "#male and female are converted to 1 & 0\n",
    "output['gender'] = output['gender'].map({'male': 1, 'female': 0})\n",
    "output.head()\n"
   ]
  },
  {
   "cell_type": "code",
   "execution_count": 33,
   "metadata": {},
   "outputs": [],
   "source": [
    "#Output is tored into a CSV file\n",
    "output.to_csv(\"pred_labels.csv\", index = False)"
   ]
  },
  {
   "cell_type": "markdown",
   "metadata": {},
   "source": [
    "***\n",
    "## 8. References"
   ]
  },
  {
   "cell_type": "markdown",
   "metadata": {},
   "source": [
    "- https://www.sciencedirect.com/science/article/pii/S1877050916326849\n",
    "- https://www.geeksforgeeks.org/svm-hyperparameter-tuning-using-gridsearchcv-ml/\n",
    "- https://realpython.com/python-keras-text-classification/\n",
    "- https://medium.com/all-things-ai/in-depth-parameter-tuning-for-svc-758215394769\n",
    "- https://scikit-learn.org/stable/supervised_learning.html\n",
    "- https://scikit-learn.org/stable/auto_examples/feature_selection/plot_rfe_with_cross_validation.html#sphx-glr-auto-examples-feature-selection-plot-rfe-with-cross-validation-py\n",
    "- https://hampao.wordpress.com/2016/04/08/building-a-wordcloud-using-a-td-idf-vectorizer-on-twitter-data/\n",
    "- https://scikit-learn.org/stable/modules/generated/sklearn.ensemble.VotingClassifier.html\n",
    "- martinschweinberger.de/docs/articles/PosTagR.pdf\n",
    "- https://www.tidytextmining.com/tfidf.html\n",
    "- https://scikit-learn.org/stable/modules/feature_extraction.html\n",
    "- https://scikit-learn.org/stable/tutorial/text_analytics/working_with_text_data.html\n",
    "- http://www.katrinerk.com/courses/words-in-a-haystack-an-introductory-statistics-course/schedule-words-in-a-haystack/r-code-the-text-mining-package\n",
    "- https://www.tidytextmining.com/index.html\n",
    "- https://scikit-learn.org/stable/modules/generated/sklearn.metrics.accuracy_score.html\n",
    "- https://www.advancedinstaller.com/user-guide/xml-escaped-chars.html\n",
    "- https://machinelearningmastery.com/make-predictions-scikit-learn/"
   ]
  }
 ],
 "metadata": {
  "kernelspec": {
   "display_name": "Python 3",
   "language": "python",
   "name": "python3"
  },
  "language_info": {
   "codemirror_mode": {
    "name": "ipython",
    "version": 3
   },
   "file_extension": ".py",
   "mimetype": "text/x-python",
   "name": "python",
   "nbconvert_exporter": "python",
   "pygments_lexer": "ipython3",
   "version": "3.7.6"
  }
 },
 "nbformat": 4,
 "nbformat_minor": 2
}
